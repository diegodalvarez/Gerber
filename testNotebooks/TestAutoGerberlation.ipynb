{
 "cells": [
  {
   "cell_type": "markdown",
   "id": "fb74553b-56d4-4050-adb1-1c77186ed54f",
   "metadata": {},
   "source": [
    "# AutoGerberlation"
   ]
  },
  {
   "cell_type": "markdown",
   "id": "2ad7cac5-a860-47eb-9608-95305213bd00",
   "metadata": {},
   "source": [
    "Diego Alvarez <br>\n",
    "diego.alvarez@colorado.edu"
   ]
  },
  {
   "cell_type": "markdown",
   "id": "b8d7fe79-046c-4382-a0a9-8aaa08680e66",
   "metadata": {},
   "source": [
    "# Packages"
   ]
  },
  {
   "cell_type": "code",
   "execution_count": 3,
   "id": "783d75d0-8615-4b86-afcc-4b9f0b09003b",
   "metadata": {},
   "outputs": [],
   "source": [
    "import pandas as pd"
   ]
  },
  {
   "cell_type": "markdown",
   "id": "6811906d-2e4c-4964-bb57-99a10b2f0706",
   "metadata": {},
   "source": [
    "# Accessing Gerber Object"
   ]
  },
  {
   "cell_type": "code",
   "execution_count": 1,
   "id": "7ab628c5-fb5e-44a8-8f87-f1633e1082bb",
   "metadata": {},
   "outputs": [],
   "source": [
    "import os\n",
    "import sys\n",
    "sys.path.append(os.path.join(os.path.dirname(os.getcwd()), \"src\"))\n",
    "from Gerber import Gerber"
   ]
  },
  {
   "cell_type": "markdown",
   "id": "ef830812-558d-42bb-9b0c-d4af8482676f",
   "metadata": {},
   "source": [
    "# Accessing Non-Financial Data"
   ]
  },
  {
   "cell_type": "code",
   "execution_count": 10,
   "id": "9f3a875f-46ff-4e8a-af97-54932f1ed9ae",
   "metadata": {},
   "outputs": [],
   "source": [
    "df_raw = pd.read_csv(\n",
    "    \"https://media.geeksforgeeks.org/wp-content/cdn-uploads/20211130152529/daily-minimum-temperatures-in-blr.csv\",\n",
    "    index_col = 0)"
   ]
  },
  {
   "cell_type": "code",
   "execution_count": 22,
   "id": "fdc6b63b-c908-4323-a92e-c5aa50089020",
   "metadata": {},
   "outputs": [
    {
     "data": {
      "text/html": [
       "<div>\n",
       "<style scoped>\n",
       "    .dataframe tbody tr th:only-of-type {\n",
       "        vertical-align: middle;\n",
       "    }\n",
       "\n",
       "    .dataframe tbody tr th {\n",
       "        vertical-align: top;\n",
       "    }\n",
       "\n",
       "    .dataframe thead th {\n",
       "        text-align: right;\n",
       "    }\n",
       "</style>\n",
       "<table border=\"1\" class=\"dataframe\">\n",
       "  <thead>\n",
       "    <tr style=\"text-align: right;\">\n",
       "      <th></th>\n",
       "      <th>value</th>\n",
       "      <th>lag1</th>\n",
       "      <th>lag2</th>\n",
       "      <th>lag3</th>\n",
       "    </tr>\n",
       "  </thead>\n",
       "  <tbody>\n",
       "    <tr>\n",
       "      <th>value</th>\n",
       "      <td>1.000000</td>\n",
       "      <td>0.535588</td>\n",
       "      <td>0.524197</td>\n",
       "      <td>0.533984</td>\n",
       "    </tr>\n",
       "    <tr>\n",
       "      <th>lag1</th>\n",
       "      <td>0.535588</td>\n",
       "      <td>1.000000</td>\n",
       "      <td>0.535968</td>\n",
       "      <td>0.524811</td>\n",
       "    </tr>\n",
       "    <tr>\n",
       "      <th>lag2</th>\n",
       "      <td>0.524197</td>\n",
       "      <td>0.535968</td>\n",
       "      <td>1.000000</td>\n",
       "      <td>0.535919</td>\n",
       "    </tr>\n",
       "    <tr>\n",
       "      <th>lag3</th>\n",
       "      <td>0.533984</td>\n",
       "      <td>0.524811</td>\n",
       "      <td>0.535919</td>\n",
       "      <td>1.000000</td>\n",
       "    </tr>\n",
       "  </tbody>\n",
       "</table>\n",
       "</div>"
      ],
      "text/plain": [
       "          value      lag1      lag2      lag3\n",
       "value  1.000000  0.535588  0.524197  0.533984\n",
       "lag1   0.535588  1.000000  0.535968  0.524811\n",
       "lag2   0.524197  0.535968  1.000000  0.535919\n",
       "lag3   0.533984  0.524811  0.535919  1.000000"
      ]
     },
     "execution_count": 22,
     "metadata": {},
     "output_type": "execute_result"
    }
   ],
   "source": [
    "(df_raw.reset_index().melt(\n",
    "    id_vars = \"Date\").\n",
    "    sort_values(\"Date\").\n",
    "    drop(columns = [\"variable\"]).\n",
    "    assign(\n",
    "        lag1 = lambda x: x.value.shift(1),\n",
    "        lag2 = lambda x: x.value.shift(2),\n",
    "        lag3 = lambda x: x.value.shift(3)).\n",
    "    set_index(\"Date\").\n",
    "    corr())"
   ]
  },
  {
   "cell_type": "code",
   "execution_count": 23,
   "id": "e4ebb98e-6cda-4562-9bfe-a955109434af",
   "metadata": {},
   "outputs": [
    {
     "data": {
      "text/html": [
       "<div>\n",
       "<style scoped>\n",
       "    .dataframe tbody tr th:only-of-type {\n",
       "        vertical-align: middle;\n",
       "    }\n",
       "\n",
       "    .dataframe tbody tr th {\n",
       "        vertical-align: top;\n",
       "    }\n",
       "\n",
       "    .dataframe thead th {\n",
       "        text-align: right;\n",
       "    }\n",
       "</style>\n",
       "<table border=\"1\" class=\"dataframe\">\n",
       "  <thead>\n",
       "    <tr style=\"text-align: right;\">\n",
       "      <th></th>\n",
       "      <th>value</th>\n",
       "      <th>lag1</th>\n",
       "      <th>lag2</th>\n",
       "      <th>lag3</th>\n",
       "    </tr>\n",
       "  </thead>\n",
       "  <tbody>\n",
       "    <tr>\n",
       "      <th>value</th>\n",
       "      <td>16.511916</td>\n",
       "      <td>8.836814</td>\n",
       "      <td>8.648508</td>\n",
       "      <td>8.807393</td>\n",
       "    </tr>\n",
       "    <tr>\n",
       "      <th>lag1</th>\n",
       "      <td>8.836814</td>\n",
       "      <td>16.506925</td>\n",
       "      <td>8.842640</td>\n",
       "      <td>8.657353</td>\n",
       "    </tr>\n",
       "    <tr>\n",
       "      <th>lag2</th>\n",
       "      <td>8.648508</td>\n",
       "      <td>8.842640</td>\n",
       "      <td>16.510234</td>\n",
       "      <td>8.842746</td>\n",
       "    </tr>\n",
       "    <tr>\n",
       "      <th>lag3</th>\n",
       "      <td>8.807393</td>\n",
       "      <td>8.657353</td>\n",
       "      <td>8.842746</td>\n",
       "      <td>16.510356</td>\n",
       "    </tr>\n",
       "  </tbody>\n",
       "</table>\n",
       "</div>"
      ],
      "text/plain": [
       "           value       lag1       lag2       lag3\n",
       "value  16.511916   8.836814   8.648508   8.807393\n",
       "lag1    8.836814  16.506925   8.842640   8.657353\n",
       "lag2    8.648508   8.842640  16.510234   8.842746\n",
       "lag3    8.807393   8.657353   8.842746  16.510356"
      ]
     },
     "execution_count": 23,
     "metadata": {},
     "output_type": "execute_result"
    }
   ],
   "source": [
    "(df_raw.reset_index().melt(\n",
    "    id_vars = \"Date\").\n",
    "    sort_values(\"Date\").\n",
    "    drop(columns = [\"variable\"]).\n",
    "    assign(\n",
    "        lag1 = lambda x: x.value.shift(1),\n",
    "        lag2 = lambda x: x.value.shift(2),\n",
    "        lag3 = lambda x: x.value.shift(3)).\n",
    "    set_index(\"Date\").\n",
    "    cov())"
   ]
  },
  {
   "cell_type": "code",
   "execution_count": null,
   "id": "d74542f6-c70e-4851-9c66-082b9934d670",
   "metadata": {},
   "outputs": [],
   "source": [
    "\n",
    "\n",
    "lags = 3\n",
    "for i in range(lags):\n",
    "    \n",
    "    df_raw[\"lag{}\".format(i + 1)]"
   ]
  }
 ],
 "metadata": {
  "kernelspec": {
   "display_name": "Python 3 (ipykernel)",
   "language": "python",
   "name": "python3"
  },
  "language_info": {
   "codemirror_mode": {
    "name": "ipython",
    "version": 3
   },
   "file_extension": ".py",
   "mimetype": "text/x-python",
   "name": "python",
   "nbconvert_exporter": "python",
   "pygments_lexer": "ipython3",
   "version": "3.8.5"
  }
 },
 "nbformat": 4,
 "nbformat_minor": 5
}

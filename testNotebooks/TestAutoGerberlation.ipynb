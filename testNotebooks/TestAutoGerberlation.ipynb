{
 "cells": [
  {
   "cell_type": "markdown",
   "id": "fb74553b-56d4-4050-adb1-1c77186ed54f",
   "metadata": {},
   "source": [
    "# AutoGerberlation"
   ]
  },
  {
   "cell_type": "markdown",
   "id": "2ad7cac5-a860-47eb-9608-95305213bd00",
   "metadata": {},
   "source": [
    "Diego Alvarez <br>\n",
    "diego.alvarez@colorado.edu"
   ]
  },
  {
   "cell_type": "markdown",
   "id": "b8d7fe79-046c-4382-a0a9-8aaa08680e66",
   "metadata": {},
   "source": [
    "# Packages"
   ]
  },
  {
   "cell_type": "code",
   "execution_count": 1,
   "id": "783d75d0-8615-4b86-afcc-4b9f0b09003b",
   "metadata": {},
   "outputs": [],
   "source": [
    "import pandas as pd"
   ]
  },
  {
   "cell_type": "markdown",
   "id": "6811906d-2e4c-4964-bb57-99a10b2f0706",
   "metadata": {},
   "source": [
    "# Accessing Gerber Object"
   ]
  },
  {
   "cell_type": "code",
   "execution_count": 2,
   "id": "7ab628c5-fb5e-44a8-8f87-f1633e1082bb",
   "metadata": {},
   "outputs": [],
   "source": [
    "import os\n",
    "import sys\n",
    "sys.path.append(os.path.join(os.path.dirname(os.getcwd()), \"src\"))\n",
    "from Gerber import Gerber"
   ]
  },
  {
   "cell_type": "markdown",
   "id": "a34f3777-acd1-4a64-ad30-b5ba547059e0",
   "metadata": {},
   "source": [
    "# Read in Data"
   ]
  },
  {
   "cell_type": "code",
   "execution_count": 3,
   "id": "4b3a4286-1b47-4f4e-9510-78ec8e5f327e",
   "metadata": {},
   "outputs": [],
   "source": [
    "df = pd.read_parquet(path = \"df.parquet\", engine = \"pyarrow\")\n",
    "df_rtn = df[\"AAPL\"]"
   ]
  },
  {
   "cell_type": "markdown",
   "id": "610f035f-5d6e-4749-ba09-3752599ee7c7",
   "metadata": {},
   "source": [
    "# Autocorrelation Function"
   ]
  },
  {
   "cell_type": "code",
   "execution_count": 4,
   "id": "f4499ebc-b2f5-46ea-ab2d-c528b4063a33",
   "metadata": {},
   "outputs": [],
   "source": [
    "def autogerberlation(ts: pd.Series, lags: int, threshold: float = 1/2, method: str = \"method1\") -> pd.Series: \n",
    "\n",
    "    df = ts.rename(0).to_frame()\n",
    "    for i in range(1, lags): df[i] = ts.shift(i)\n",
    "    corr = Gerber().corr(rtns = df, threshold = threshold, method = method)\n",
    "    corr.columns.name = \"lag\"\n",
    "    return corr[0]"
   ]
  },
  {
   "cell_type": "code",
   "execution_count": 5,
   "id": "977fbebc-8247-4957-86e1-892cae92c8d2",
   "metadata": {},
   "outputs": [],
   "source": [
    "autogerber = autogerberlation(df_rtn, lags = 40)"
   ]
  },
  {
   "cell_type": "code",
   "execution_count": 6,
   "id": "18f8ab70-1c1f-4cb8-9a13-2f3eb308f61e",
   "metadata": {},
   "outputs": [
    {
     "data": {
      "text/plain": [
       "<AxesSubplot:xlabel='lag'>"
      ]
     },
     "execution_count": 6,
     "metadata": {},
     "output_type": "execute_result"
    },
    {
     "data": {
      "image/png": "[encoded data removed]",
      "text/plain": [
       "<Figure size 432x288 with 1 Axes>"
      ]
     },
     "metadata": {
      "needs_background": "light"
     },
     "output_type": "display_data"
    }
   ],
   "source": [
    "autogerber.plot()"
   ]
  },
  {
   "cell_type": "code",
   "execution_count": null,
   "id": "2316e6e0-7f62-4d70-85bf-9a78c0ee4b26",
   "metadata": {},
   "outputs": [],
   "source": []
  }
 ],
 "metadata": {
  "kernelspec": {
   "display_name": "Python 3 (ipykernel)",
   "language": "python",
   "name": "python3"
  },
  "language_info": {
   "codemirror_mode": {
    "name": "ipython",
    "version": 3
   },
   "file_extension": ".py",
   "mimetype": "text/x-python",
   "name": "python",
   "nbconvert_exporter": "python",
   "pygments_lexer": "ipython3",
   "version": "3.8.5"
  }
 },
 "nbformat": 4,
 "nbformat_minor": 5
}
